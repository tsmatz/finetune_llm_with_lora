{
 "cells": [
  {
   "cell_type": "markdown",
   "id": "857cafc6-da38-4aa7-8afc-63aa626fa7aa",
   "metadata": {},
   "source": [
    "# 01. Finetuning OPT with LoRA\n",
    "\n",
    "Today's popular auto-regressive models - such as, GPT, LLaMA, Falcon, etc - are decoder-only models, in which the output token is predicted by using only input's text (called a prompt).\n",
    "\n",
    "![Decoder-only transformers](./images/auto_regressive_transformer.png)\n",
    "\n",
    "*\"Decoder-only\" model is implemented using layers in the red box.<br>\n",
    "(Diagram from : [Attention Is All You Need](https://arxiv.org/abs/1706.03762))*\n",
    "\n",
    "In this model, the task is differentiated also by using input's text (i.e, prompt).\n",
    "\n",
    "> Note : See [this repository](https://github.com/tsmatz/nlp-tutorials) for intrinsic idea of LLM transformers.\n",
    "\n",
    "In this example, we fine-tune the pre-trained auto-regressive model, Meta's OPT (```facebook/opt-125m```), by applying LoRA (Low-Rank Adaptation) optimization.\n",
    "\n",
    "In this example, I download the pre-trained model from Hugging Face hub, but fine-tune model with regular PyTorch training loop.<br>\n",
    "(Here I don't use Hugging Face Trainer class.)\n",
    "\n",
    "See [Readme](https://github.com/tsmatz/finetune_llm_with_lora) for prerequisite's setup."
   ]
  },
  {
   "cell_type": "code",
   "execution_count": 1,
   "id": "3d49acf1-9ad1-4a6c-9312-6785cb3f5862",
   "metadata": {},
   "outputs": [],
   "source": [
    "model_name = \"facebook/opt-125m\"\n",
    "# model_name = \"facebook/opt-350m\"\n",
    "# model_name = \"facebook/opt-1.3b\"\n",
    "# model_name = \"facebook/opt-6.7b\""
   ]
  },
  {
   "cell_type": "code",
   "execution_count": 2,
   "id": "4d835e84-a01d-4c33-926b-60d9dd4a7627",
   "metadata": {},
   "outputs": [],
   "source": [
    "import torch\n",
    "\n",
    "device = torch.device(\"cuda\")"
   ]
  },
  {
   "cell_type": "markdown",
   "id": "ead383e5-149b-4bfb-9324-3cc639fd398d",
   "metadata": {},
   "source": [
    "## Prepare dataset and dataloader"
   ]
  },
  {
   "cell_type": "markdown",
   "id": "91ecbb08-6a74-4623-bfe8-bddba5254e35",
   "metadata": {},
   "source": [
    "In this example, we use dataset used in [official LoRA example](https://github.com/microsoft/LoRA).\n",
    "\n",
    "Download dataset from official repository."
   ]
  },
  {
   "cell_type": "code",
   "execution_count": 3,
   "id": "54a564f1-f8f3-42a6-b160-bebdbcc3aac0",
   "metadata": {},
   "outputs": [
    {
     "name": "stdout",
     "output_type": "stream",
     "text": [
      "--2023-10-06 03:27:50--  https://github.com/microsoft/LoRA/raw/main/examples/NLG/data/e2e/train.txt\n",
      "Resolving github.com (github.com)... 140.82.114.3\n",
      "Connecting to github.com (github.com)|140.82.114.3|:443... connected.\n",
      "HTTP request sent, awaiting response... 302 Found\n",
      "Location: https://raw.githubusercontent.com/microsoft/LoRA/main/examples/NLG/data/e2e/train.txt [following]\n",
      "--2023-10-06 03:27:51--  https://raw.githubusercontent.com/microsoft/LoRA/main/examples/NLG/data/e2e/train.txt\n",
      "Resolving raw.githubusercontent.com (raw.githubusercontent.com)... 185.199.110.133, 185.199.109.133, 185.199.108.133, ...\n",
      "Connecting to raw.githubusercontent.com (raw.githubusercontent.com)|185.199.110.133|:443... connected.\n",
      "HTTP request sent, awaiting response... 200 OK\n",
      "Length: 9624463 (9.2M) [text/plain]\n",
      "Saving to: ‘train.txt’\n",
      "\n",
      "train.txt           100%[===================>]   9.18M  --.-KB/s    in 0.04s   \n",
      "\n",
      "2023-10-06 03:27:51 (248 MB/s) - ‘train.txt’ saved [9624463/9624463]\n",
      "\n"
     ]
    }
   ],
   "source": [
    "!wget https://github.com/microsoft/LoRA/raw/main/examples/NLG/data/e2e/train.txt"
   ]
  },
  {
   "cell_type": "code",
   "execution_count": 4,
   "id": "d48464ea-991f-48b2-9166-3323cfd61676",
   "metadata": {
    "scrolled": true
   },
   "outputs": [
    {
     "name": "stdout",
     "output_type": "stream",
     "text": [
      "--2023-10-06 03:27:54--  https://github.com/microsoft/LoRA/raw/main/examples/NLG/data/e2e/test.txt\n",
      "Resolving github.com (github.com)... 140.82.114.3\n",
      "Connecting to github.com (github.com)|140.82.114.3|:443... connected.\n",
      "HTTP request sent, awaiting response... 302 Found\n",
      "Location: https://raw.githubusercontent.com/microsoft/LoRA/main/examples/NLG/data/e2e/test.txt [following]\n",
      "--2023-10-06 03:27:54--  https://raw.githubusercontent.com/microsoft/LoRA/main/examples/NLG/data/e2e/test.txt\n",
      "Resolving raw.githubusercontent.com (raw.githubusercontent.com)... 185.199.111.133, 185.199.108.133, 185.199.109.133, ...\n",
      "Connecting to raw.githubusercontent.com (raw.githubusercontent.com)|185.199.111.133|:443... connected.\n",
      "HTTP request sent, awaiting response... 200 OK\n",
      "Length: 1351149 (1.3M) [text/plain]\n",
      "Saving to: ‘test.txt’\n",
      "\n",
      "test.txt            100%[===================>]   1.29M  --.-KB/s    in 0.006s  \n",
      "\n",
      "2023-10-06 03:27:54 (208 MB/s) - ‘test.txt’ saved [1351149/1351149]\n",
      "\n"
     ]
    }
   ],
   "source": [
    "!wget https://github.com/microsoft/LoRA/raw/main/examples/NLG/data/e2e/test.txt"
   ]
  },
  {
   "cell_type": "markdown",
   "id": "09472803-8c62-48e0-9a63-b9b9448f16d3",
   "metadata": {},
   "source": [
    "Show the downloaded data (first 5 rows)."
   ]
  },
  {
   "cell_type": "code",
   "execution_count": 5,
   "id": "e6e60596-028f-4c4b-a95d-f74a0ff3b188",
   "metadata": {},
   "outputs": [
    {
     "name": "stdout",
     "output_type": "stream",
     "text": [
      "name : The Vaults | Type : pub | price : more than £ 30 | customer rating : 5 out of 5 | near : Café Adriatic||The Vaults pub near Café Adriatic has a 5 star rating . Prices start at £ 30 . \n",
      "name : The Cambridge Blue | Type : pub | food : English | price : cheap | near : Café Brazil||Close to Café Brazil , The Cambridge Blue pub serves delicious Tuscan Beef for the cheap price of £ 10.50 . Delicious Pub food . \n",
      "name : The Eagle | Type : coffee shop | food : Japanese | price : less than £ 20 | customer rating : low | area : riverside | family friendly : yes | near : Burger King||The Eagle is a low rated coffee shop near Burger King and the riverside that is family friendly and is less than £ 20 for Japanese food . \n",
      "name : The Mill | Type : coffee shop | food : French | price : £ 20 - 25 | area : riverside | near : The Sorrento||Located near The Sorrento is a French Theme eatery and coffee shop called The Mill , with a price range at £ 20- £ 25 it is in the riverside area . \n",
      "name : Loch Fyne | food : French | customer rating : high | area : riverside | near : The Rice Boat||For luxurious French food , the Loch Fyne is located by the river next to The Rice Boat . \n"
     ]
    }
   ],
   "source": [
    "!head -n 5 train.txt"
   ]
  },
  {
   "cell_type": "markdown",
   "id": "93f5fabe-590c-459b-aa16-4b5a506fb54b",
   "metadata": {},
   "source": [
    "Convert above data into JsonL format."
   ]
  },
  {
   "cell_type": "code",
   "execution_count": 6,
   "id": "7376e0c0-16c9-46f4-ad4c-83d1a677f5a2",
   "metadata": {},
   "outputs": [],
   "source": [
    "import sys\n",
    "import io\n",
    "import json\n",
    "\n",
    "def format_convert(read_file, write_file):\n",
    "    with open(read_file, \"r\", encoding=\"utf8\") as reader, \\\n",
    "    \t open(write_file, \"w\", encoding=\"utf8\") as writer :\n",
    "    \tfor line in reader:\n",
    "    \t\titems = line.strip().split(\"||\")\n",
    "    \t\tcontext = items[0]\n",
    "    \t\tcompletion = items[1].strip(\"\\n\")\n",
    "    \t\tx = {}\n",
    "    \t\tx[\"context\"] = context\n",
    "    \t\tx[\"completion\"] = completion\n",
    "    \t\twriter.write(json.dumps(x)+\"\\n\")\n",
    "\n",
    "format_convert(\"train.txt\", \"train_formatted.jsonl\")\n",
    "format_convert(\"test.txt\", \"test_formatted.jsonl\")"
   ]
  },
  {
   "cell_type": "markdown",
   "id": "3ceec952-fe03-475f-9f3e-22237cc9c44b",
   "metadata": {},
   "source": [
    "Show the converted data (first 5 rows)."
   ]
  },
  {
   "cell_type": "code",
   "execution_count": 7,
   "id": "cb32aca7-bd0e-4847-a4c2-cc7e67dc2b7a",
   "metadata": {},
   "outputs": [
    {
     "name": "stdout",
     "output_type": "stream",
     "text": [
      "{\"context\": \"name : The Vaults | Type : pub | price : more than \\u00a3 30 | customer rating : 5 out of 5 | near : Caf\\u00e9 Adriatic\", \"completion\": \"The Vaults pub near Caf\\u00e9 Adriatic has a 5 star rating . Prices start at \\u00a3 30 .\"}\n",
      "\n",
      "{\"context\": \"name : The Cambridge Blue | Type : pub | food : English | price : cheap | near : Caf\\u00e9 Brazil\", \"completion\": \"Close to Caf\\u00e9 Brazil , The Cambridge Blue pub serves delicious Tuscan Beef for the cheap price of \\u00a3 10.50 . Delicious Pub food .\"}\n",
      "\n",
      "{\"context\": \"name : The Eagle | Type : coffee shop | food : Japanese | price : less than \\u00a3 20 | customer rating : low | area : riverside | family friendly : yes | near : Burger King\", \"completion\": \"The Eagle is a low rated coffee shop near Burger King and the riverside that is family friendly and is less than \\u00a3 20 for Japanese food .\"}\n",
      "\n",
      "{\"context\": \"name : The Mill | Type : coffee shop | food : French | price : \\u00a3 20 - 25 | area : riverside | near : The Sorrento\", \"completion\": \"Located near The Sorrento is a French Theme eatery and coffee shop called The Mill , with a price range at \\u00a3 20- \\u00a3 25 it is in the riverside area .\"}\n",
      "\n",
      "{\"context\": \"name : Loch Fyne | food : French | customer rating : high | area : riverside | near : The Rice Boat\", \"completion\": \"For luxurious French food , the Loch Fyne is located by the river next to The Rice Boat .\"}\n",
      "\n"
     ]
    }
   ],
   "source": [
    "with open(\"train_formatted.jsonl\", \"r\") as reader:\n",
    "    for _ in range(5):\n",
    "        print(next(reader))"
   ]
  },
  {
   "cell_type": "markdown",
   "id": "6631f786-be4b-40cf-89d9-7009c1888821",
   "metadata": {},
   "source": [
    "Load tokenizer from Hugging Face."
   ]
  },
  {
   "cell_type": "code",
   "execution_count": 8,
   "id": "e5433dc0-b5a5-4c01-adb5-3ffa2279eca8",
   "metadata": {},
   "outputs": [],
   "source": [
    "from transformers import AutoTokenizer\n",
    "import os\n",
    "\n",
    "tokenizer = AutoTokenizer.from_pretrained(\n",
    "    model_name,\n",
    "    fast_tokenizer=True)\n",
    "tokenizer.pad_token = tokenizer.eos_token\n",
    "os.environ[\"TOKENIZERS_PARALLELISM\"] = \"false\""
   ]
  },
  {
   "cell_type": "markdown",
   "id": "50817c47-a97b-4f80-975b-836859a0a7cf",
   "metadata": {},
   "source": [
    "Set block size, which is used to separate long text for model consumption."
   ]
  },
  {
   "cell_type": "code",
   "execution_count": 9,
   "id": "5f250929-5703-4b17-9f7b-26340950c055",
   "metadata": {},
   "outputs": [],
   "source": [
    "block_size = 512"
   ]
  },
  {
   "cell_type": "markdown",
   "id": "2332617b-1e66-4812-ad47-5eaeb52b101b",
   "metadata": {},
   "source": [
    "Create function to convert data. (Later this function is then used in data loader.)<br>\n",
    "In this function,\n",
    "\n",
    "1. Tokenize both contexts and compeletions. : e.g, ```\"This is a pen.\"``` --> ```[1212, 318, 257, 3112, 13]```\n",
    "2. Concatenate context's token and completion's token. (But it's delimited by \"\\n\" between context and completion.) This is used for inputs for LLM.\n",
    "3. Create labels (targets) with inputs. Label is ```input[1:]``` (i.e, shifted right by one element), and is filled by ```-100``` in context's positions. (See below note.)\n",
    "4. Pad tokens to make the length of token become ```block_size```.\n",
    "\n",
    "> Note : Here I set ```-100``` as an ignored index for loss computation, because PyTorch cross-entropy function (```torch.nn.functional.cross_entropy()```) has a property ```ignore_index``` which default value is ```-100```."
   ]
  },
  {
   "cell_type": "code",
   "execution_count": 10,
   "id": "9f2f38aa-b3d0-4614-aa59-8ddd977176d1",
   "metadata": {},
   "outputs": [],
   "source": [
    "from torch.utils.data import DataLoader\n",
    "import pandas as pd\n",
    "\n",
    "def fill_ignore_label(l, c):\n",
    "    l[:len(c) - 1] = [-100] * (len(c) - 1)\n",
    "    return l\n",
    "\n",
    "def pad_tokens(tokens, max_seq_length, padding_token):\n",
    "    res_tokens = tokens[:max_seq_length]\n",
    "    token_len = len(res_tokens)\n",
    "    res_tokens = res_tokens + \\\n",
    "        [padding_token for _ in range(max_seq_length - token_len)]\n",
    "    return res_tokens\n",
    "\n",
    "def collate_batch(batch):\n",
    "    # tokenize both context and completion respectively\n",
    "    # (context and completion is delimited by \"\\n\")\n",
    "    context_list = list(zip(*batch))[0]\n",
    "    context_list = [c + \"\\n\" for c in context_list]\n",
    "    completion_list = list(zip(*batch))[1]\n",
    "    context_result = tokenizer(context_list)\n",
    "    context_tokens = context_result[\"input_ids\"]\n",
    "    context_masks = context_result[\"attention_mask\"]\n",
    "    completion_result = tokenizer(completion_list)\n",
    "    completion_tokens = completion_result[\"input_ids\"]\n",
    "    completion_masks = completion_result[\"attention_mask\"]\n",
    "    # OPT tokenizer adds the start token in sequence,\n",
    "    # and we then remove it in completion\n",
    "    completion_tokens = [t[1:] for t in completion_tokens]\n",
    "    completion_masks = [t[1:] for t in completion_masks]\n",
    "    # concatenate token\n",
    "    inputs = [i + j for i, j in zip(context_tokens, completion_tokens)]\n",
    "    masks = [i + j for i, j in zip(context_masks, completion_masks)]\n",
    "    # create label\n",
    "    eos_id = tokenizer.encode(tokenizer.eos_token)[0]\n",
    "    labels = [t[1:] + [eos_id] for t in inputs]\n",
    "    labels = list(map(fill_ignore_label, labels, context_tokens))\n",
    "    # truncate and pad tokens\n",
    "    inputs = [pad_tokens(t, block_size, 0) for t in inputs] # OPT and GPT-2 doesn't use pad token (instead attn mask is used)\n",
    "    masks = [pad_tokens(t, block_size, 0) for t in masks]\n",
    "    labels = [pad_tokens(t, block_size, -100) for t in labels]\n",
    "    # convert to tensor\n",
    "    inputs = torch.tensor(inputs, dtype=torch.int64).to(device)\n",
    "    masks = torch.tensor(masks, dtype=torch.int64).to(device)\n",
    "    labels = torch.tensor(labels, dtype=torch.int64).to(device)\n",
    "    return inputs, labels, masks"
   ]
  },
  {
   "cell_type": "markdown",
   "id": "2084d2e9-ef64-47a2-aec9-d24ead1cb38a",
   "metadata": {},
   "source": [
    "Now create PyTorch dataloader with previous function (collator function).\n",
    "\n",
    "> Note : In this example, data is small and we then load all JSON data in memory.<br>\n",
    "> When it's large, load data progressively by implementing custom PyTorch dataset. (See [here](https://github.com/tsmatz/decision-transformer) for example.)"
   ]
  },
  {
   "cell_type": "code",
   "execution_count": 11,
   "id": "f3bce3bb-2215-4bd6-a6a6-5b6b9d5afdc0",
   "metadata": {},
   "outputs": [],
   "source": [
    "batch_size = 8\n",
    "gradient_accumulation_steps = 16\n",
    "\n",
    "data = pd.read_json(\"train_formatted.jsonl\", lines=True)\n",
    "dataloader = DataLoader(\n",
    "    list(zip(data[\"context\"], data[\"completion\"])),\n",
    "    batch_size=batch_size,\n",
    "    shuffle=True,\n",
    "    collate_fn=collate_batch\n",
    ")"
   ]
  },
  {
   "cell_type": "markdown",
   "id": "3ba64144-b698-457e-b827-941020456536",
   "metadata": {},
   "source": [
    "## Load model"
   ]
  },
  {
   "cell_type": "markdown",
   "id": "1bfd360d-7bdc-4fd7-9b12-bcf9fe0a8db2",
   "metadata": {},
   "source": [
    "Load model from Hugging Face."
   ]
  },
  {
   "cell_type": "code",
   "execution_count": 12,
   "id": "271181bd-677a-4da9-9e57-2874f5e47bd0",
   "metadata": {},
   "outputs": [],
   "source": [
    "from transformers import AutoModelForCausalLM, AutoConfig\n",
    "\n",
    "config = AutoConfig.from_pretrained(model_name)\n",
    "model = AutoModelForCausalLM.from_pretrained(\n",
    "    model_name,\n",
    "    config=config,\n",
    ").to(device)"
   ]
  },
  {
   "cell_type": "markdown",
   "id": "27ab764a-d634-40f8-9edb-a01146845233",
   "metadata": {},
   "source": [
    "## Generate text (before fine-tuning)"
   ]
  },
  {
   "cell_type": "markdown",
   "id": "559efeaf-4b38-4a0c-9be6-eb394221e374",
   "metadata": {},
   "source": [
    "Now run prediction with downloaded model (which is not still fine-tuned).\n",
    "\n",
    "First we create a function to generate text."
   ]
  },
  {
   "cell_type": "code",
   "execution_count": 13,
   "id": "51a0c4fc-e0a7-4bbf-b25a-c335fe61f3df",
   "metadata": {},
   "outputs": [],
   "source": [
    "def generate_text(model, input, mask, eos_id, pred_sequence_length):\n",
    "    predicted_last_id = -1\n",
    "    start_token_len = torch.sum(mask).cpu().numpy()\n",
    "    token_len = start_token_len\n",
    "    with torch.no_grad():\n",
    "        while (predicted_last_id != eos_id) and \\\n",
    "              (token_len - start_token_len < pred_sequence_length):\n",
    "            output = model(\n",
    "                input_ids=input,\n",
    "                attention_mask=mask,\n",
    "            )\n",
    "            predicted_ids = torch.argmax(output.logits, axis=-1).cpu().numpy()\n",
    "            predicted_last_id = predicted_ids[0][token_len - 1]\n",
    "            input[0][token_len] = predicted_last_id\n",
    "            mask[0][token_len] = 1\n",
    "            token_len = torch.sum(mask).cpu().numpy()\n",
    "    return input, token_len"
   ]
  },
  {
   "cell_type": "markdown",
   "id": "3936b1a1-ae9f-48a5-80db-691261dda704",
   "metadata": {},
   "source": [
    "Let's test our function and generate text. (Here we stop the text generation when it reaches 15 tokens in prediction.)"
   ]
  },
  {
   "cell_type": "code",
   "execution_count": 14,
   "id": "28b7e13f-e8fb-4a9f-90ed-0464463ef569",
   "metadata": {},
   "outputs": [
    {
     "name": "stdout",
     "output_type": "stream",
     "text": [
      "</s>Once upon a time, I was a student at the University of California, Berkeley. I was a\n",
      "</s>My name is Clara and I am a student at the University of California, Berkeley. I am a member of\n"
     ]
    }
   ],
   "source": [
    "eos_id = tokenizer.encode(tokenizer.eos_token)[0]\n",
    "\n",
    "result = tokenizer(\"Once upon a time,\")\n",
    "input = result[\"input_ids\"]\n",
    "mask = result[\"attention_mask\"]\n",
    "input = pad_tokens(input, block_size, 0)\n",
    "mask = pad_tokens(mask, block_size, 0)\n",
    "input = torch.tensor([input], dtype=torch.int64).to(device)\n",
    "mask = torch.tensor([mask], dtype=torch.int64).to(device)\n",
    "\n",
    "result_token, result_len = generate_text(\n",
    "    model,\n",
    "    input,\n",
    "    mask,\n",
    "    eos_id,\n",
    "    pred_sequence_length=15)\n",
    "print(tokenizer.decode(result_token[0][:result_len]))\n",
    "\n",
    "result = tokenizer(\"My name is Clara and I am\")\n",
    "input = result[\"input_ids\"]\n",
    "mask = result[\"attention_mask\"]\n",
    "input = pad_tokens(input, block_size, 0)\n",
    "mask = pad_tokens(mask, block_size, 0)\n",
    "input = torch.tensor([input], dtype=torch.int64).to(device)\n",
    "mask = torch.tensor([mask], dtype=torch.int64).to(device)\n",
    "\n",
    "result_token, result_len = generate_text(\n",
    "    model,\n",
    "    input,\n",
    "    mask,\n",
    "    eos_id,\n",
    "    pred_sequence_length=15)\n",
    "print(tokenizer.decode(result_token[0][:result_len]))"
   ]
  },
  {
   "cell_type": "markdown",
   "id": "d48fb60b-c05d-4884-a9bc-92152c94c894",
   "metadata": {},
   "source": [
    "Now we generate text with our test dataset (5 rows).<br>\n",
    "As you can see below, it cannot output the completion well, because it's not still fine-tuned."
   ]
  },
  {
   "cell_type": "code",
   "execution_count": 15,
   "id": "495728ef-fbe6-4953-a354-4b7a8bb88798",
   "metadata": {},
   "outputs": [
    {
     "name": "stdout",
     "output_type": "stream",
     "text": [
      "********** input **********\n",
      "</s>name : The Wrestlers | Type : pub | food : Italian | price : less than £ 20 | area : riverside | family friendly : no | near : Raja Indian Cuisine\n",
      "\n",
      "********** result **********\n",
      "</s>name : The Wrestlers | Type : pub | food : Italian | price : less than £ 20 | area : riverside | family friendly : no | near : Raja Indian Cuisine\n",
      "\n",
      "The Wrestlers is a restaurant in the heart of the city of Raja, India. It is located in the heart of the city of Raj\n",
      "********** input **********\n",
      "</s>name : The Cricketers | Type : coffee shop | customer rating : 1 out of 5 | family friendly : yes | near : Avalon\n",
      "\n",
      "********** result **********\n",
      "</s>name : The Cricketers | Type : coffee shop | customer rating : 1 out of 5 | family friendly : yes | near : Avalon\n",
      "\n",
      "The Cricketers is a coffee shop in Avalon, New York. It is located at the corner of Main Street and Main Street. The coffee\n",
      "********** input **********\n",
      "</s>name : The Cricketers | Type : restaurant | food : Chinese | price : cheap | customer rating : 5 out of 5 | area : city centre | family friendly : no | near : All Bar One\n",
      "\n",
      "********** result **********\n",
      "</s>name : The Cricketers | Type : restaurant | food : Chinese | price : cheap | customer rating : 5 out of 5 | area : city centre | family friendly : no | near : All Bar One\n",
      "\n",
      "The Cricketers | Type : restaurant | food : Chinese | price : cheap | customer rating : 5 out of 5 | area : city centre\n",
      "********** input **********\n",
      "</s>name : The Punter | Type : restaurant | food : English | price : high | area : riverside | family friendly : no | near : Raja Indian Cuisine\n",
      "\n",
      "********** result **********\n",
      "</s>name : The Punter | Type : restaurant | food : English | price : high | area : riverside | family friendly : no | near : Raja Indian Cuisine\n",
      "\n",
      "The Punter is a restaurant in Raja, India. It is located in the heart of the Raja district of Rajasthan. It\n",
      "********** input **********\n",
      "</s>name : The Cricketers | Type : restaurant | food : Chinese | price : cheap | customer rating : average | area : city centre | family friendly : yes | near : All Bar One\n",
      "\n",
      "********** result **********\n",
      "</s>name : The Cricketers | Type : restaurant | food : Chinese | price : cheap | customer rating : average | area : city centre | family friendly : yes | near : All Bar One\n",
      "\n",
      "The Cricketers | Type : restaurant | food : Chinese | price : cheap | customer rating : average | area : city centre | family friendly\n"
     ]
    }
   ],
   "source": [
    "test_data = pd.read_json(\"test_formatted.jsonl\", lines=True)\n",
    "test_data = test_data[::2]  # because it's duplicated\n",
    "test_loader = DataLoader(\n",
    "    list(zip(test_data[\"context\"], [\"\"] * len(test_data[\"context\"]))),\n",
    "    batch_size=1,\n",
    "    shuffle=True,\n",
    "    collate_fn=collate_batch\n",
    ")\n",
    "\n",
    "for i, (input, _, mask) in enumerate(test_loader):\n",
    "    if i == 5:\n",
    "        break\n",
    "    print(\"********** input **********\")\n",
    "    input_len = torch.sum(mask).cpu().numpy()\n",
    "    print(tokenizer.decode(input[0][:input_len]))\n",
    "    result_token, result_len = generate_text(\n",
    "        model,\n",
    "        input,\n",
    "        mask,\n",
    "        eos_id,\n",
    "        pred_sequence_length=30)\n",
    "    print(\"********** result **********\")\n",
    "    print(tokenizer.decode(result_token[0][:result_len]))"
   ]
  },
  {
   "cell_type": "markdown",
   "id": "e3138341-e01c-4fae-af78-c61e34967e92",
   "metadata": {},
   "source": [
    "## LoRA (Low-Rank Adaptation)\n",
    "\n",
    "Now we apply LoRA in our downloaded model.\n",
    "\n",
    "[LoRA (Low-Rank Adaptation)](https://arxiv.org/abs/2106.09685) (which is developed by Microsoft Research) is a popular adaptation method for efficient fine-tuning.\n",
    "\n",
    "In a task-specific fine-tuning, the change in weights during model adaptation has a low intrinsic rank.<br>\n",
    "With this hypothesis, we can assume that model's updates ($ \\Delta W $) will be re-written with much smaller low-rank matrices $ B \\cdot A $ as follows.\n",
    "\n",
    "$$ \\displaystyle W_0 x + \\Delta W x = W_0 x + B \\cdot A x $$\n",
    "\n",
    "where\n",
    "\n",
    "- $ W_0 \\in \\mathbb{R}^{d \\times k} $ is a pre-trained weight's matrix (which is frozen).\n",
    "- $ \\Delta W $ is updates.\n",
    "- $ B \\in \\mathbb{R}^{d \\times r}, A \\in \\mathbb{R}^{r \\times k} $ and $ \\verb| rank |\\ r \\ll min(d, k) $\n",
    "\n",
    "![LoRA](./images/lora.png)\n",
    "\n",
    "*From : [LoRA: Low-Rank Adaptation of Large Language Models](https://arxiv.org/abs/2106.09685)*\n",
    "\n",
    "In this assumption, we freeze all weights except for $ B $ and $ A $, and train only these low-ranked matrices $ B $ and $ A $.<br>\n",
    "With this manner, you can fine-tune large transformers for a specific task without full-parameter's fine-tuning.\n",
    "\n",
    "This will significantly save the required capacity (GPU memories) for training, and the number of required GPUs can approximately be reduced to one-fourth in the benchmark with GPT-3.\n",
    "\n",
    "For the purpose of your learning, here I manually (from scratch) convert the current model into the model with LoRA.\n",
    "\n",
    "> Note : You can use ```PEFT``` package to be able to get LoRA model with a few lines of code. (Here I don't use this package.)"
   ]
  },
  {
   "cell_type": "markdown",
   "id": "5265832d-a736-4d68-80d3-347833d2c590",
   "metadata": {},
   "source": [
    "Before changing our model, first we check the structure of our model.<br>\n",
    "As you can see below (see the result in the cell), the following 6 linear layers are used in a single transformer layer on OPT.\n",
    "\n",
    "- Linear layer to get key\n",
    "- Linear layer to get value\n",
    "- Linear layer to get query\n",
    "- Linear layer for the output of attention\n",
    "- 2 linear layers (feed-forward layer) for the output of a single layer of transformer\n",
    "\n",
    "In this example, we'll convert all these layers into LoRA layers.<br>\n",
    "The transformer in OPT-125M has 12 layers and it then has total 6 x 12 = 72 linear layers to be converted."
   ]
  },
  {
   "cell_type": "code",
   "execution_count": 16,
   "id": "5acb8f62-791a-4fa4-b00c-2666cf34827f",
   "metadata": {},
   "outputs": [
    {
     "data": {
      "text/plain": [
       "OPTForCausalLM(\n",
       "  (model): OPTModel(\n",
       "    (decoder): OPTDecoder(\n",
       "      (embed_tokens): Embedding(50272, 768, padding_idx=1)\n",
       "      (embed_positions): OPTLearnedPositionalEmbedding(2050, 768)\n",
       "      (final_layer_norm): LayerNorm((768,), eps=1e-05, elementwise_affine=True)\n",
       "      (layers): ModuleList(\n",
       "        (0-11): 12 x OPTDecoderLayer(\n",
       "          (self_attn): OPTAttention(\n",
       "            (k_proj): Linear(in_features=768, out_features=768, bias=True)\n",
       "            (v_proj): Linear(in_features=768, out_features=768, bias=True)\n",
       "            (q_proj): Linear(in_features=768, out_features=768, bias=True)\n",
       "            (out_proj): Linear(in_features=768, out_features=768, bias=True)\n",
       "          )\n",
       "          (activation_fn): ReLU()\n",
       "          (self_attn_layer_norm): LayerNorm((768,), eps=1e-05, elementwise_affine=True)\n",
       "          (fc1): Linear(in_features=768, out_features=3072, bias=True)\n",
       "          (fc2): Linear(in_features=3072, out_features=768, bias=True)\n",
       "          (final_layer_norm): LayerNorm((768,), eps=1e-05, elementwise_affine=True)\n",
       "        )\n",
       "      )\n",
       "    )\n",
       "  )\n",
       "  (lm_head): Linear(in_features=768, out_features=50272, bias=False)\n",
       ")"
      ]
     },
     "execution_count": 16,
     "metadata": {},
     "output_type": "execute_result"
    }
   ],
   "source": [
    "model"
   ]
  },
  {
   "cell_type": "markdown",
   "id": "045e7239-cb8a-46dd-815d-e48e7e49eea4",
   "metadata": {},
   "source": [
    "First we build custom linear layer with LoRA as follows."
   ]
  },
  {
   "cell_type": "code",
   "execution_count": 17,
   "id": "77889272-9a93-491b-93cb-b0bed5ce7cd8",
   "metadata": {},
   "outputs": [],
   "source": [
    "import math\n",
    "from torch import nn\n",
    "\n",
    "class LoRA_Linear(nn.Module):\n",
    "    def __init__(self, weight, bias, lora_dim):\n",
    "        super(LoRA_Linear, self).__init__()\n",
    "\n",
    "        row, column = weight.shape\n",
    "\n",
    "        # restore Linear\n",
    "        if bias is None:\n",
    "            self.linear = nn.Linear(column, row, bias=False)\n",
    "            self.linear.load_state_dict({\"weight\": weight})\n",
    "        else:\n",
    "            self.linear = nn.Linear(column, row)\n",
    "            self.linear.load_state_dict({\"weight\": weight, \"bias\": bias})\n",
    "\n",
    "        # create LoRA weights (with initialization)\n",
    "        self.lora_right = nn.Parameter(torch.zeros(column, lora_dim))\n",
    "        nn.init.kaiming_uniform_(self.lora_right, a=math.sqrt(5))\n",
    "        self.lora_left = nn.Parameter(torch.zeros(lora_dim, row))\n",
    "\n",
    "    def forward(self, input):\n",
    "        x = self.linear(input)\n",
    "        y = input @ self.lora_right @ self.lora_left\n",
    "        return x + y"
   ]
  },
  {
   "cell_type": "markdown",
   "id": "954e2c9d-545e-4bd9-9b0f-eba3fe29a1de",
   "metadata": {},
   "source": [
    "Replace targeting linear layers with LoRA layers."
   ]
  },
  {
   "cell_type": "code",
   "execution_count": 18,
   "id": "baf8a748-a3e3-45b8-9c64-252c56abe923",
   "metadata": {},
   "outputs": [],
   "source": [
    "lora_dim = 128\n",
    "\n",
    "# get target module name\n",
    "target_names = []\n",
    "for name, module in model.named_modules():\n",
    "    if isinstance(module, nn.Linear) and \"decoder.layers.\" in name:\n",
    "        target_names.append(name)\n",
    "\n",
    "# replace each module with LoRA\n",
    "for name in target_names:\n",
    "    name_struct = name.split(\".\")\n",
    "    # get target module\n",
    "    module_list = [model]\n",
    "    for struct in name_struct:\n",
    "        module_list.append(getattr(module_list[-1], struct))\n",
    "    # build LoRA\n",
    "    lora = LoRA_Linear(\n",
    "        weight = module_list[-1].weight,\n",
    "        bias = module_list[-1].bias,\n",
    "        lora_dim = lora_dim,\n",
    "    ).to(device)\n",
    "    # replace\n",
    "    module_list[-2].__setattr__(name_struct[-1], lora)"
   ]
  },
  {
   "cell_type": "markdown",
   "id": "8aae2df9-fae7-4ecc-8260-80e8e578d951",
   "metadata": {},
   "source": [
    "See how model is changed."
   ]
  },
  {
   "cell_type": "code",
   "execution_count": 19,
   "id": "bf16b414-b973-40eb-be81-fd2aa3dde439",
   "metadata": {},
   "outputs": [
    {
     "data": {
      "text/plain": [
       "OPTForCausalLM(\n",
       "  (model): OPTModel(\n",
       "    (decoder): OPTDecoder(\n",
       "      (embed_tokens): Embedding(50272, 768, padding_idx=1)\n",
       "      (embed_positions): OPTLearnedPositionalEmbedding(2050, 768)\n",
       "      (final_layer_norm): LayerNorm((768,), eps=1e-05, elementwise_affine=True)\n",
       "      (layers): ModuleList(\n",
       "        (0-11): 12 x OPTDecoderLayer(\n",
       "          (self_attn): OPTAttention(\n",
       "            (k_proj): LoRA_Linear(\n",
       "              (linear): Linear(in_features=768, out_features=768, bias=True)\n",
       "            )\n",
       "            (v_proj): LoRA_Linear(\n",
       "              (linear): Linear(in_features=768, out_features=768, bias=True)\n",
       "            )\n",
       "            (q_proj): LoRA_Linear(\n",
       "              (linear): Linear(in_features=768, out_features=768, bias=True)\n",
       "            )\n",
       "            (out_proj): LoRA_Linear(\n",
       "              (linear): Linear(in_features=768, out_features=768, bias=True)\n",
       "            )\n",
       "          )\n",
       "          (activation_fn): ReLU()\n",
       "          (self_attn_layer_norm): LayerNorm((768,), eps=1e-05, elementwise_affine=True)\n",
       "          (fc1): LoRA_Linear(\n",
       "            (linear): Linear(in_features=768, out_features=3072, bias=True)\n",
       "          )\n",
       "          (fc2): LoRA_Linear(\n",
       "            (linear): Linear(in_features=3072, out_features=768, bias=True)\n",
       "          )\n",
       "          (final_layer_norm): LayerNorm((768,), eps=1e-05, elementwise_affine=True)\n",
       "        )\n",
       "      )\n",
       "    )\n",
       "  )\n",
       "  (lm_head): Linear(in_features=768, out_features=50272, bias=False)\n",
       ")"
      ]
     },
     "execution_count": 19,
     "metadata": {},
     "output_type": "execute_result"
    }
   ],
   "source": [
    "model"
   ]
  },
  {
   "cell_type": "markdown",
   "id": "e9099c08-f6a6-45f8-939b-cc3ed9415976",
   "metadata": {},
   "source": [
    "Finally, freeze all parameters except for LoRA parameters."
   ]
  },
  {
   "cell_type": "code",
   "execution_count": 20,
   "id": "81d06bba-955b-4806-8ff7-f217252e3268",
   "metadata": {},
   "outputs": [],
   "source": [
    "for name, param in model.named_parameters():\n",
    "    if \"lora_right\" in name or \"lora_left\" in name:\n",
    "        param.requires_grad = True\n",
    "    else:\n",
    "        param.requires_grad = False"
   ]
  },
  {
   "cell_type": "code",
   "execution_count": null,
   "id": "6c0a4469-2827-4f30-9324-711a9feea1ae",
   "metadata": {},
   "outputs": [],
   "source": [
    "### Do this when you run adapter fine-tuning on Hugging Face framework\n",
    "# model.gradient_checkpointing_enable()\n",
    "# model.enable_input_require_grads()"
   ]
  },
  {
   "cell_type": "markdown",
   "id": "6d6c7d6f-6c50-4839-88a5-c851caab9ba2",
   "metadata": {},
   "source": [
    "## Fine-tune"
   ]
  },
  {
   "cell_type": "markdown",
   "id": "a12b875f-36cc-40b8-aaab-1efda68710f3",
   "metadata": {},
   "source": [
    "Now let's start to run fine-tuning.\n",
    "\n",
    "First we build optimizer as follows."
   ]
  },
  {
   "cell_type": "code",
   "execution_count": 21,
   "id": "bb51298a-2d55-466c-a990-0ea08a247350",
   "metadata": {},
   "outputs": [],
   "source": [
    "optimizer = torch.optim.AdamW(\n",
    "    params=model.parameters(),\n",
    "    lr=1e-3,\n",
    "    betas=(0.9, 0.95),\n",
    ")"
   ]
  },
  {
   "cell_type": "markdown",
   "id": "d37db1a8-0053-4acc-94ce-89d87c78942e",
   "metadata": {},
   "source": [
    "In this example, we build cosine scheduler for training."
   ]
  },
  {
   "cell_type": "code",
   "execution_count": 22,
   "id": "6f95bdf6-4498-4d40-90aa-1267d55f38c3",
   "metadata": {},
   "outputs": [],
   "source": [
    "from torch.optim.lr_scheduler import LambdaLR\n",
    "\n",
    "num_epochs = 2\n",
    "\n",
    "num_update_steps = math.ceil(len(dataloader) / batch_size / gradient_accumulation_steps)\n",
    "def _get_cosine_schedule(\n",
    "    current_step: int,\n",
    "    num_warmup_steps: int = 0,\n",
    "    num_training_steps: int = num_epochs * num_update_steps\n",
    "):\n",
    "    if current_step < num_warmup_steps:\n",
    "        return float(current_step) / float(max(1, num_warmup_steps))\n",
    "    progress = float(current_step - num_warmup_steps) / float(max(1, num_training_steps - num_warmup_steps))\n",
    "    return max(0.0, 0.5 * (1.0 + math.cos(math.pi * progress)))\n",
    "scheduler = LambdaLR(optimizer, lr_lambda=_get_cosine_schedule)"
   ]
  },
  {
   "cell_type": "markdown",
   "id": "a9f9e828-c4fb-493d-a6de-78e03dbf035e",
   "metadata": {},
   "source": [
    "Run fine-tuning."
   ]
  },
  {
   "cell_type": "code",
   "execution_count": 23,
   "id": "75d22125-830a-4ec6-8417-cdb8a97ec559",
   "metadata": {},
   "outputs": [
    {
     "name": "stdout",
     "output_type": "stream",
     "text": [
      "Epoch 1 42/42 - loss: 1.0724\n",
      "Epoch 2 42/42 - loss: 1.3185\n"
     ]
    }
   ],
   "source": [
    "from torch.nn import functional as F\n",
    "\n",
    "if os.path.exists(\"loss.txt\"):\n",
    "    os.remove(\"loss.txt\")\n",
    "\n",
    "for epoch in range(num_epochs):\n",
    "    optimizer.zero_grad()\n",
    "    model.train()\n",
    "    for i, (inputs, labels, masks) in enumerate(dataloader):\n",
    "        with torch.set_grad_enabled(True):\n",
    "            outputs = model(\n",
    "                input_ids=inputs,\n",
    "                attention_mask=masks,\n",
    "            )\n",
    "            loss = F.cross_entropy(outputs.logits.transpose(1,2), labels)\n",
    "            loss.backward()\n",
    "            if ((i + 1) % gradient_accumulation_steps == 0) or \\\n",
    "               (i + 1 == len(dataloader)):\n",
    "                optimizer.step()\n",
    "                optimizer.zero_grad()\n",
    "                scheduler.step()\n",
    "\n",
    "            print(f\"Epoch {epoch+1} {math.ceil((i + 1) / batch_size / gradient_accumulation_steps)}/{num_update_steps} - loss: {loss.item() :2.4f}\", end=\"\\r\")\n",
    "\n",
    "        # record loss\n",
    "        with open(\"loss.txt\", \"a\") as f:\n",
    "            f.write(str(loss.item()))\n",
    "            f.write(\"\\n\")\n",
    "    print(\"\")\n",
    "\n",
    "# save model\n",
    "torch.save(model.state_dict(), \"finetuned_opt.bin\")"
   ]
  },
  {
   "cell_type": "markdown",
   "id": "83993d92-d7ed-4a07-8985-cc59bd4e4fef",
   "metadata": {},
   "source": [
    "> Note : Here we save LoRA-enabled model without any changes, but you can also merge the trained LoRA's parameters into the original linear layer's weights."
   ]
  },
  {
   "cell_type": "markdown",
   "id": "1bc086e5-e93f-4264-a8fa-6428f844ac3c",
   "metadata": {},
   "source": [
    "Show loss transition in plot."
   ]
  },
  {
   "cell_type": "code",
   "execution_count": 25,
   "id": "e37c5aee-38d4-4a2a-952c-4fd2bef41e2b",
   "metadata": {},
   "outputs": [
    {
     "data": {
      "image/png": "[encoded data removed]",
      "text/plain": [
       "<Figure size 640x480 with 1 Axes>"
      ]
     },
     "metadata": {},
     "output_type": "display_data"
    }
   ],
   "source": [
    "import matplotlib.pyplot as plt\n",
    "import pandas as pd\n",
    "\n",
    "data = pd.read_csv(\"loss.txt\")\n",
    "plt.plot(data)\n",
    "plt.show()"
   ]
  },
  {
   "cell_type": "markdown",
   "id": "9809bc9f-4ff6-46c3-9c43-08c6c2694a82",
   "metadata": {},
   "source": [
    "## Generate text with fine-tuned model\n",
    "\n",
    "Again we check results with our test dataset (5 rows).<br>\n",
    "As you can see below, it can output the completion very well, because it's fine-tuned."
   ]
  },
  {
   "cell_type": "code",
   "execution_count": 26,
   "id": "29903cae-404e-4209-9c84-6c8a69609c13",
   "metadata": {},
   "outputs": [
    {
     "name": "stdout",
     "output_type": "stream",
     "text": [
      "********** input **********\n",
      "</s>name : The Punter | Type : pub | food : Chinese | price : more than £ 30 | area : riverside | family friendly : yes | near : Raja Indian Cuisine\n",
      "\n",
      "********** result **********\n",
      "</s>name : The Punter | Type : pub | food : Chinese | price : more than £ 30 | area : riverside | family friendly : yes | near : Raja Indian Cuisine\n",
      "The Punter is a children friendly pub that serves Chinese food. It is located in the riverside area near Raja Indian Cuisine and has a\n",
      "********** input **********\n",
      "</s>name : The Cricketers | Type : restaurant | food : Chinese | price : cheap | customer rating : 5 out of 5 | area : city centre | family friendly : no | near : All Bar One\n",
      "\n",
      "********** result **********\n",
      "</s>name : The Cricketers | Type : restaurant | food : Chinese | price : cheap | customer rating : 5 out of 5 | area : city centre | family friendly : no | near : All Bar One\n",
      "The Cricketers is a Chinese restaurant with a cheap price range, located in the city centre near All Bar One. It has a customer rating of\n",
      "********** input **********\n",
      "</s>name : The Phoenix | Type : pub | food : French | price : moderate | customer rating : 1 out of 5 | area : riverside | family friendly : no | near : Crowne Plaza Hotel\n",
      "\n",
      "********** result **********\n",
      "</s>name : The Phoenix | Type : pub | food : French | price : moderate | customer rating : 1 out of 5 | area : riverside | family friendly : no | near : Crowne Plaza Hotel\n",
      "The Phoenix is a pub that serves French food. It is located near Crown Plaza Hotel in the riverside area. It has a moderate price range and\n",
      "********** input **********\n",
      "</s>name : Giraffe | Type : restaurant | food : Fast food | area : riverside | family friendly : yes | near : Rainbow Vegetarian Café\n",
      "\n",
      "********** result **********\n",
      "</s>name : Giraffe | Type : restaurant | food : Fast food | area : riverside | family friendly : yes | near : Rainbow Vegetarian Café\n",
      "Giraffe is a fast food restaurant located in the riverside area near Rainbow Vegetarian Café. It is family friendly.</s>\n",
      "********** input **********\n",
      "</s>name : The Vaults | Type : pub | food : French | price : more than £ 30 | area : city centre | family friendly : yes | near : Raja Indian Cuisine\n",
      "\n",
      "********** result **********\n",
      "</s>name : The Vaults | Type : pub | food : French | price : more than £ 30 | area : city centre | family friendly : yes | near : Raja Indian Cuisine\n",
      "The Vaults is a children friendly French pub located in the city centre near Raja Indian Cuisine.</s>\n"
     ]
    }
   ],
   "source": [
    "test_data = pd.read_json(\"test_formatted.jsonl\", lines=True)\n",
    "test_data = test_data[::2]  # because it's duplicated\n",
    "test_loader = DataLoader(\n",
    "    list(zip(test_data[\"context\"], [\"\"] * len(test_data[\"context\"]))),\n",
    "    batch_size=1,\n",
    "    shuffle=True,\n",
    "    collate_fn=collate_batch\n",
    ")\n",
    "\n",
    "for i, (input, _, mask) in enumerate(test_loader):\n",
    "    if i == 5:\n",
    "        break\n",
    "    print(\"********** input **********\")\n",
    "    input_len = torch.sum(mask).cpu().numpy()\n",
    "    print(tokenizer.decode(input[0][:input_len]))\n",
    "    result_token, result_len = generate_text(\n",
    "        model,\n",
    "        input,\n",
    "        mask,\n",
    "        eos_id,\n",
    "        pred_sequence_length=30)\n",
    "    print(\"********** result **********\")\n",
    "    print(tokenizer.decode(result_token[0][:result_len]))"
   ]
  },
  {
   "cell_type": "code",
   "execution_count": null,
   "id": "6a7c1dd3-4057-497a-83ae-f99b1883697e",
   "metadata": {},
   "outputs": [],
   "source": []
  }
 ],
 "metadata": {
  "kernelspec": {
   "display_name": "Python 3 (ipykernel)",
   "language": "python",
   "name": "python3"
  },
  "language_info": {
   "codemirror_mode": {
    "name": "ipython",
    "version": 3
   },
   "file_extension": ".py",
   "mimetype": "text/x-python",
   "name": "python",
   "nbconvert_exporter": "python",
   "pygments_lexer": "ipython3",
   "version": "3.8.10"
  }
 },
 "nbformat": 4,
 "nbformat_minor": 5
}
